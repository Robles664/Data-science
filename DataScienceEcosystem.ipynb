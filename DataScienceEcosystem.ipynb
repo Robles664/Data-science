{
  "metadata": {
    "kernelspec": {
      "name": "python",
      "display_name": "Python (Pyodide)",
      "language": "python"
    },
    "language_info": {
      "codemirror_mode": {
        "name": "python",
        "version": 3
      },
      "file_extension": ".py",
      "mimetype": "text/x-python",
      "name": "python",
      "nbconvert_exporter": "python",
      "pygments_lexer": "ipython3",
      "version": "3.8"
    }
  },
  "nbformat_minor": 4,
  "nbformat": 4,
  "cells": [
    {
      "cell_type": "markdown",
      "source": "# Data Science Tools and Ecosystem",
      "metadata": {}
    },
    {
      "cell_type": "markdown",
      "source": "En este cuaderno, se resumen las herramientas y ecosistemas de cienci de datos.",
      "metadata": {}
    },
    {
      "cell_type": "markdown",
      "source": "Algunos de los lenguajes populares que utilizan los cientificos de ciencias de datos son:",
      "metadata": {}
    },
    {
      "cell_type": "markdown",
      "source": "1. Python\n2. R\n3. SQL",
      "metadata": {}
    },
    {
      "cell_type": "markdown",
      "source": "**Algunas de las bibliotecas comúnmente utilizadas por los científicos de datos incluyen:**\n\n1. **NumPy**: Biblioteca fundamental para cálculos numéricos y operaciones con arrays en Python.\n2. **Pandas**: Herramienta poderosa para el análisis y manipulación de datos estructurados.\n3. **Matplotlib**: Biblioteca para la creación de visualizaciones gráficas, como gráficos de líneas, barras y dispersión.\n4. **Scikit-learn**: Biblioteca para aprendizaje automático, incluyendo clasificación, regresión y agrupamiento.\n5. **TensorFlow**: Marco para construir y entrenar modelos de aprendizaje profundo.\n",
      "metadata": {}
    },
    {
      "cell_type": "markdown",
      "source": "| Herramientas de ciencia de datos |\n|----------------------------------|\n|   Jupiterlab                     |\n|   RStudio                        |\n|   Apache Zepelin                 |",
      "metadata": {}
    },
    {
      "cell_type": "markdown",
      "source": "### A continuación, se presentan algunos ejemplos de evaluación de expresiones aritméticas en Python.\n- Suma; 5 + 3 = 8\n- Resta; 10 - 2 = 8\n- Multiplicación; 4 * 7 = 28\n- División; 16 / 4 = 4",
      "metadata": {}
    },
    {
      "cell_type": "code",
      "source": "#Esta es una expresion aritmetica simple para multiplicar y luego sumar enteros\n(3*4)+5",
      "metadata": {
        "trusted": true
      },
      "outputs": [
        {
          "execution_count": 1,
          "output_type": "execute_result",
          "data": {
            "text/plain": "17"
          },
          "metadata": {}
        }
      ],
      "execution_count": 1
    },
    {
      "cell_type": "code",
      "source": "#Esto conertira 200 minutos a horas dividiendo por 60\n200/60",
      "metadata": {
        "trusted": true
      },
      "outputs": [
        {
          "execution_count": 2,
          "output_type": "execute_result",
          "data": {
            "text/plain": "3.3333333333333335"
          },
          "metadata": {}
        }
      ],
      "execution_count": 2
    },
    {
      "cell_type": "markdown",
      "source": "**Objetivos:**\n\n- Comprender los fundamentos de la Ciencia de Datos.\n- Listar lenguajes populares para Ciencia de Datos.\n- Explorar herramientas utilizadas en el desarrollo de proyectos de Ciencia de Datos.\n- Identificar los entornos de desarrollo más comunes.\n- Aprender a crear y estructurar contenido en JupyterLab.",
      "metadata": {}
    },
    {
      "cell_type": "markdown",
      "source": "## Alejandro Robles Lizarraga\nAutor",
      "metadata": {}
    },
    {
      "cell_type": "code",
      "source": "",
      "metadata": {
        "trusted": true
      },
      "outputs": [],
      "execution_count": null
    }
  ]
}